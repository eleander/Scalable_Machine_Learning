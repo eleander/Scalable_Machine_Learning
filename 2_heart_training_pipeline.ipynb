{
 "cells": [
  {
   "cell_type": "code",
   "execution_count": 1,
   "metadata": {},
   "outputs": [],
   "source": [
    "import hopsworks\n",
    "import pandas as pd\n",
    "import numpy as np\n",
    "import os\n",
    "from sklearn.metrics import f1_score, confusion_matrix, classification_report\n",
    "from sklearn.ensemble import RandomForestClassifier\n",
    "from sklearn.model_selection import RandomizedSearchCV, train_test_split\n",
    "from sklearn.dummy import DummyClassifier\n",
    "from sklearn.neural_network import MLPClassifier\n",
    "from imblearn.over_sampling import SMOTE\n",
    "import matplotlib.pyplot as plt\n",
    "import seaborn as sns\n",
    "from hsml.model_schema import ModelSchema\n",
    "from hsml.schema import Schema\n",
    "import joblib\n",
    "\n",
    "sns.set_palette('husl')\n",
    "%matplotlib inline"
   ]
  },
  {
   "cell_type": "code",
   "execution_count": 2,
   "metadata": {},
   "outputs": [
    {
     "name": "stdout",
     "output_type": "stream",
     "text": [
      "Connected. Call `.close()` to terminate connection gracefully.\n",
      "\n",
      "Logged in to project, explore it here https://c.app.hopsworks.ai:443/p/196773\n"
     ]
    }
   ],
   "source": [
    "project = hopsworks.login()"
   ]
  },
  {
   "cell_type": "code",
   "execution_count": 3,
   "metadata": {},
   "outputs": [
    {
     "name": "stdout",
     "output_type": "stream",
     "text": [
      "Connected. Call `.close()` to terminate connection gracefully.\n"
     ]
    }
   ],
   "source": [
    "fs = project.get_feature_store()\n",
    "heart_fg = fs.get_feature_group(name=\"heart\", version=1)"
   ]
  },
  {
   "cell_type": "markdown",
   "metadata": {},
   "source": [
    "# Get Data from Feature Store\n"
   ]
  },
  {
   "cell_type": "code",
   "execution_count": null,
   "metadata": {},
   "outputs": [],
   "source": [
    "query = heart_fg.select_all()\n",
    "feature_view = fs.get_or_create_feature_view(name=\"heart\",\n",
    "                                  version=1,\n",
    "                                  description=\"Read from Heart dataset\",\n",
    "                                  labels=[\"heart_disease\"],\n",
    "                                  query=query)\n",
    "X_train, X_test, y_train, y_test = feature_view.train_test_split(test_size=0.2)\n",
    "\n",
    "# Remove timestamp\n",
    "X_train = X_train.drop(columns=['timestamp'])\n",
    "X_test = X_test.drop(columns=['timestamp'])"
   ]
  },
  {
   "cell_type": "code",
   "execution_count": 4,
   "metadata": {},
   "outputs": [],
   "source": [
    "# Load it locally (faster)\n",
    "# heart_df = pd.read_csv('dataset/heart_preprocessed.csv')\n",
    "\n",
    "# y = heart_df['heart_disease']\n",
    "# X = heart_df.drop(columns=['heart_disease', 'timestamp'])\n",
    "\n",
    "# X_train, X_test, y_train, y_test = train_test_split(X, y, test_size=0.2, random_state=42)"
   ]
  },
  {
   "cell_type": "markdown",
   "metadata": {},
   "source": [
    "# Feature Pipeline"
   ]
  },
  {
   "cell_type": "code",
   "execution_count": 5,
   "metadata": {},
   "outputs": [],
   "source": [
    "preprocessing_pipeline = joblib.load('heart_model/preprocessing_pipeline.pkl')"
   ]
  },
  {
   "cell_type": "code",
   "execution_count": 6,
   "metadata": {},
   "outputs": [],
   "source": [
    "X_train = preprocessing_pipeline.transform(X_train)\n",
    "X_test = preprocessing_pipeline.transform(X_test)"
   ]
  },
  {
   "cell_type": "markdown",
   "metadata": {},
   "source": [
    "# Handle Imbalance"
   ]
  },
  {
   "cell_type": "code",
   "execution_count": 7,
   "metadata": {},
   "outputs": [
    {
     "name": "stdout",
     "output_type": "stream",
     "text": [
      "2023-12-29 00:19:30,131 INFO: Using categorical units to plot a list of strings that are all parsable as floats or dates. If these strings should be plotted as numbers, cast to the appropriate data type before plotting.\n",
      "2023-12-29 00:19:30,206 INFO: Using categorical units to plot a list of strings that are all parsable as floats or dates. If these strings should be plotted as numbers, cast to the appropriate data type before plotting.\n"
     ]
    },
    {
     "data": {
      "text/plain": [
       "<Axes: xlabel='heart_disease', ylabel='count'>"
      ]
     },
     "execution_count": 7,
     "metadata": {},
     "output_type": "execute_result"
    },
    {
     "data": {
      "image/png": "[encoded data removed]",
      "text/plain": [
       "<Figure size 640x480 with 1 Axes>"
      ]
     },
     "metadata": {},
     "output_type": "display_data"
    }
   ],
   "source": [
    "heart_df_train = pd.DataFrame(y_train, columns=['heart_disease'])\n",
    "sns.countplot(x='heart_disease', data=heart_df_train)"
   ]
  },
  {
   "cell_type": "code",
   "execution_count": 8,
   "metadata": {},
   "outputs": [],
   "source": [
    "ros = SMOTE(random_state=42)\n",
    "X_train_res, y_train_res = ros.fit_resample(X_train, y_train)"
   ]
  },
  {
   "cell_type": "code",
   "execution_count": 9,
   "metadata": {},
   "outputs": [],
   "source": [
    "heart_df_train_res = pd.DataFrame(y_train_res, columns=['heart_disease'])"
   ]
  },
  {
   "cell_type": "code",
   "execution_count": 10,
   "metadata": {},
   "outputs": [
    {
     "name": "stdout",
     "output_type": "stream",
     "text": [
      "2023-12-29 00:19:31,340 INFO: Using categorical units to plot a list of strings that are all parsable as floats or dates. If these strings should be plotted as numbers, cast to the appropriate data type before plotting.\n",
      "2023-12-29 00:19:31,466 INFO: Using categorical units to plot a list of strings that are all parsable as floats or dates. If these strings should be plotted as numbers, cast to the appropriate data type before plotting.\n"
     ]
    },
    {
     "data": {
      "text/plain": [
       "<Axes: xlabel='heart_disease', ylabel='count'>"
      ]
     },
     "execution_count": 10,
     "metadata": {},
     "output_type": "execute_result"
    },
    {
     "data": {
      "image/png": "[encoded data removed]",
      "text/plain": [
       "<Figure size 640x480 with 1 Axes>"
      ]
     },
     "metadata": {},
     "output_type": "display_data"
    }
   ],
   "source": [
    "sns.countplot(x='heart_disease', data=heart_df_train_res)"
   ]
  },
  {
   "cell_type": "markdown",
   "metadata": {},
   "source": [
    "# Train"
   ]
  },
  {
   "cell_type": "code",
   "execution_count": 11,
   "metadata": {},
   "outputs": [
    {
     "data": {
      "text/html": [
       "<style>#sk-container-id-1 {color: black;}#sk-container-id-1 pre{padding: 0;}#sk-container-id-1 div.sk-toggleable {background-color: white;}#sk-container-id-1 label.sk-toggleable__label {cursor: pointer;display: block;width: 100%;margin-bottom: 0;padding: 0.3em;box-sizing: border-box;text-align: center;}#sk-container-id-1 label.sk-toggleable__label-arrow:before {content: \"▸\";float: left;margin-right: 0.25em;color: #696969;}#sk-container-id-1 label.sk-toggleable__label-arrow:hover:before {color: black;}#sk-container-id-1 div.sk-estimator:hover label.sk-toggleable__label-arrow:before {color: black;}#sk-container-id-1 div.sk-toggleable__content {max-height: 0;max-width: 0;overflow: hidden;text-align: left;background-color: #f0f8ff;}#sk-container-id-1 div.sk-toggleable__content pre {margin: 0.2em;color: black;border-radius: 0.25em;background-color: #f0f8ff;}#sk-container-id-1 input.sk-toggleable__control:checked~div.sk-toggleable__content {max-height: 200px;max-width: 100%;overflow: auto;}#sk-container-id-1 input.sk-toggleable__control:checked~label.sk-toggleable__label-arrow:before {content: \"▾\";}#sk-container-id-1 div.sk-estimator input.sk-toggleable__control:checked~label.sk-toggleable__label {background-color: #d4ebff;}#sk-container-id-1 div.sk-label input.sk-toggleable__control:checked~label.sk-toggleable__label {background-color: #d4ebff;}#sk-container-id-1 input.sk-hidden--visually {border: 0;clip: rect(1px 1px 1px 1px);clip: rect(1px, 1px, 1px, 1px);height: 1px;margin: -1px;overflow: hidden;padding: 0;position: absolute;width: 1px;}#sk-container-id-1 div.sk-estimator {font-family: monospace;background-color: #f0f8ff;border: 1px dotted black;border-radius: 0.25em;box-sizing: border-box;margin-bottom: 0.5em;}#sk-container-id-1 div.sk-estimator:hover {background-color: #d4ebff;}#sk-container-id-1 div.sk-parallel-item::after {content: \"\";width: 100%;border-bottom: 1px solid gray;flex-grow: 1;}#sk-container-id-1 div.sk-label:hover label.sk-toggleable__label {background-color: #d4ebff;}#sk-container-id-1 div.sk-serial::before {content: \"\";position: absolute;border-left: 1px solid gray;box-sizing: border-box;top: 0;bottom: 0;left: 50%;z-index: 0;}#sk-container-id-1 div.sk-serial {display: flex;flex-direction: column;align-items: center;background-color: white;padding-right: 0.2em;padding-left: 0.2em;position: relative;}#sk-container-id-1 div.sk-item {position: relative;z-index: 1;}#sk-container-id-1 div.sk-parallel {display: flex;align-items: stretch;justify-content: center;background-color: white;position: relative;}#sk-container-id-1 div.sk-item::before, #sk-container-id-1 div.sk-parallel-item::before {content: \"\";position: absolute;border-left: 1px solid gray;box-sizing: border-box;top: 0;bottom: 0;left: 50%;z-index: -1;}#sk-container-id-1 div.sk-parallel-item {display: flex;flex-direction: column;z-index: 1;position: relative;background-color: white;}#sk-container-id-1 div.sk-parallel-item:first-child::after {align-self: flex-end;width: 50%;}#sk-container-id-1 div.sk-parallel-item:last-child::after {align-self: flex-start;width: 50%;}#sk-container-id-1 div.sk-parallel-item:only-child::after {width: 0;}#sk-container-id-1 div.sk-dashed-wrapped {border: 1px dashed gray;margin: 0 0.4em 0.5em 0.4em;box-sizing: border-box;padding-bottom: 0.4em;background-color: white;}#sk-container-id-1 div.sk-label label {font-family: monospace;font-weight: bold;display: inline-block;line-height: 1.2em;}#sk-container-id-1 div.sk-label-container {text-align: center;}#sk-container-id-1 div.sk-container {/* jupyter's `normalize.less` sets `[hidden] { display: none; }` but bootstrap.min.css set `[hidden] { display: none !important; }` so we also need the `!important` here to be able to override the default hidden behavior on the sphinx rendered scikit-learn.org. See: https://github.com/scikit-learn/scikit-learn/issues/21755 */display: inline-block !important;position: relative;}#sk-container-id-1 div.sk-text-repr-fallback {display: none;}</style><div id=\"sk-container-id-1\" class=\"sk-top-container\"><div class=\"sk-text-repr-fallback\"><pre>DummyClassifier(strategy=&#x27;most_frequent&#x27;)</pre><b>In a Jupyter environment, please rerun this cell to show the HTML representation or trust the notebook. <br />On GitHub, the HTML representation is unable to render, please try loading this page with nbviewer.org.</b></div><div class=\"sk-container\" hidden><div class=\"sk-item\"><div class=\"sk-estimator sk-toggleable\"><input class=\"sk-toggleable__control sk-hidden--visually\" id=\"sk-estimator-id-1\" type=\"checkbox\" checked><label for=\"sk-estimator-id-1\" class=\"sk-toggleable__label sk-toggleable__label-arrow\">DummyClassifier</label><div class=\"sk-toggleable__content\"><pre>DummyClassifier(strategy=&#x27;most_frequent&#x27;)</pre></div></div></div></div></div>"
      ],
      "text/plain": [
       "DummyClassifier(strategy='most_frequent')"
      ]
     },
     "execution_count": 11,
     "metadata": {},
     "output_type": "execute_result"
    }
   ],
   "source": [
    "base_model = DummyClassifier(strategy='most_frequent')\n",
    "base_model.fit(X_train, y_train)"
   ]
  },
  {
   "cell_type": "code",
   "execution_count": 13,
   "metadata": {
    "scrolled": true
   },
   "outputs": [],
   "source": [
    "default_rf = RandomForestClassifier()\n",
    "default_rf.fit(X_train_res, y_train_res)"
   ]
  },
  {
   "cell_type": "code",
   "execution_count": 13,
   "metadata": {},
   "outputs": [
    {
     "name": "stdout",
     "output_type": "stream",
     "text": [
      "Fitting 3 folds for each of 100 candidates, totalling 300 fits\n"
     ]
    },
    {
     "name": "stderr",
     "output_type": "stream",
     "text": [
      "UserWarning: A worker stopped while some jobs were given to the executor. This can be caused by a too short worker timeout or by a memory leak.\n"
     ]
    },
    {
     "name": "stdout",
     "output_type": "stream",
     "text": [
      "Best params: {'n_estimators': 200, 'min_samples_split': 2, 'min_samples_leaf': 2, 'max_features': 'sqrt', 'max_depth': None, 'bootstrap': False}\n",
      "Best score: 0.8866028544105445\n"
     ]
    }
   ],
   "source": [
    "# Save random search results to avoid re-running\n",
    "if not os.path.exists('train/rcv_data.pkl'):\n",
    "    model = RandomForestClassifier()\n",
    "    param_grid = {'n_estimators': [100, 150, 200],\n",
    "                'max_features': ['sqrt', 'log2'],\n",
    "                'max_depth': [None, 2, 5, 10],\n",
    "                'min_samples_split': [2, 5, 10],\n",
    "                'min_samples_leaf': [1, 2, 5, 10],\n",
    "                'bootstrap': [True, False]}\n",
    "    rand_search = RandomizedSearchCV(model, param_grid, cv=3, scoring='f1_weighted', n_iter=100, random_state=42, n_jobs=2, verbose=True)\n",
    "    rand_search.fit(X_train, y_train)\n",
    "    joblib.dump(rand_search, 'train/rcv_data.pkl')\n",
    "else:\n",
    "    rand_search = joblib.load('train/rcv_data.pkl')\n",
    "\n",
    "print(f\"Best params: {rand_search.best_params_}\")\n",
    "print(f\"Best score: {rand_search.best_score_}\")\n",
    "best_model = rand_search.best_estimator_"
   ]
  },
  {
   "cell_type": "code",
   "execution_count": 14,
   "metadata": {},
   "outputs": [
    {
     "name": "stdout",
     "output_type": "stream",
     "text": [
      "Iteration 1, loss = 0.23213175\n",
      "Iteration 2, loss = 0.22540128\n",
      "Iteration 3, loss = 0.22441446\n",
      "Iteration 4, loss = 0.22381057\n",
      "Iteration 5, loss = 0.22325605\n",
      "Iteration 6, loss = 0.22284617\n",
      "Iteration 7, loss = 0.22249957\n",
      "Iteration 8, loss = 0.22201353\n",
      "Iteration 9, loss = 0.22144486\n",
      "Iteration 10, loss = 0.22114765\n",
      "Iteration 11, loss = 0.22071564\n",
      "Iteration 12, loss = 0.22005838\n",
      "Iteration 13, loss = 0.21930195\n",
      "Iteration 14, loss = 0.21895537\n",
      "Iteration 15, loss = 0.21834864\n",
      "Iteration 16, loss = 0.21782460\n",
      "Iteration 17, loss = 0.21716250\n",
      "Iteration 18, loss = 0.21657169\n",
      "Iteration 19, loss = 0.21588841\n",
      "Iteration 20, loss = 0.21508643\n",
      "Iteration 21, loss = 0.21457660\n",
      "Iteration 22, loss = 0.21378992\n",
      "Iteration 23, loss = 0.21316666\n",
      "Iteration 24, loss = 0.21237417\n",
      "Iteration 25, loss = 0.21148247\n",
      "Iteration 26, loss = 0.21072646\n",
      "Iteration 27, loss = 0.21009496\n",
      "Iteration 28, loss = 0.20947655\n",
      "Iteration 29, loss = 0.20880521\n",
      "Iteration 30, loss = 0.20800871\n",
      "Iteration 31, loss = 0.20729824\n",
      "Iteration 32, loss = 0.20662702\n",
      "Iteration 33, loss = 0.20570652\n",
      "Iteration 34, loss = 0.20509636\n",
      "Iteration 35, loss = 0.20419485\n",
      "Iteration 36, loss = 0.20372141\n",
      "Iteration 37, loss = 0.20304020\n",
      "Iteration 38, loss = 0.20250983\n",
      "Iteration 39, loss = 0.20175863\n",
      "Iteration 40, loss = 0.20134666\n",
      "Iteration 41, loss = 0.20056428\n",
      "Iteration 42, loss = 0.19986405\n",
      "Iteration 43, loss = 0.19951237\n",
      "Iteration 44, loss = 0.19881730\n",
      "Iteration 45, loss = 0.19829644\n",
      "Iteration 46, loss = 0.19786256\n",
      "Iteration 47, loss = 0.19755167\n",
      "Iteration 48, loss = 0.19684290\n",
      "Iteration 49, loss = 0.19624565\n",
      "Iteration 50, loss = 0.19567638\n",
      "Iteration 51, loss = 0.19533646\n",
      "Iteration 52, loss = 0.19485168\n",
      "Iteration 53, loss = 0.19450226\n",
      "Iteration 54, loss = 0.19401622\n",
      "Iteration 55, loss = 0.19370145\n",
      "Iteration 56, loss = 0.19293294\n",
      "Iteration 57, loss = 0.19260069\n",
      "Iteration 58, loss = 0.19233229\n",
      "Iteration 59, loss = 0.19181601\n",
      "Iteration 60, loss = 0.19171753\n",
      "Iteration 61, loss = 0.19113328\n",
      "Iteration 62, loss = 0.19040155\n",
      "Iteration 63, loss = 0.19038559\n",
      "Iteration 64, loss = 0.18968183\n",
      "Iteration 65, loss = 0.18946162\n",
      "Iteration 66, loss = 0.18939682\n",
      "Iteration 67, loss = 0.18890396\n",
      "Iteration 68, loss = 0.18858847\n",
      "Iteration 69, loss = 0.18837515\n",
      "Iteration 70, loss = 0.18812291\n",
      "Iteration 71, loss = 0.18754980\n",
      "Iteration 72, loss = 0.18738200\n",
      "Iteration 73, loss = 0.18677926\n",
      "Iteration 74, loss = 0.18660626\n",
      "Iteration 75, loss = 0.18664334\n",
      "Iteration 76, loss = 0.18590546\n",
      "Iteration 77, loss = 0.18558891\n",
      "Iteration 78, loss = 0.18548615\n",
      "Iteration 79, loss = 0.18525261\n",
      "Iteration 80, loss = 0.18487449\n",
      "Iteration 81, loss = 0.18420796\n",
      "Iteration 82, loss = 0.18413623\n",
      "Iteration 83, loss = 0.18393691\n",
      "Iteration 84, loss = 0.18350859\n",
      "Iteration 85, loss = 0.18369487\n",
      "Iteration 86, loss = 0.18318584\n",
      "Iteration 87, loss = 0.18295688\n",
      "Iteration 88, loss = 0.18253652\n",
      "Iteration 89, loss = 0.18208550\n",
      "Iteration 90, loss = 0.18180418\n",
      "Iteration 91, loss = 0.18172043\n",
      "Iteration 92, loss = 0.18162853\n",
      "Iteration 93, loss = 0.18117320\n",
      "Iteration 94, loss = 0.18093253\n",
      "Iteration 95, loss = 0.18097691\n",
      "Iteration 96, loss = 0.18046838\n",
      "Iteration 97, loss = 0.18063166\n",
      "Iteration 98, loss = 0.17987295\n",
      "Iteration 99, loss = 0.18000169\n",
      "Iteration 100, loss = 0.17972317\n",
      "Iteration 101, loss = 0.17919290\n",
      "Iteration 102, loss = 0.17907851\n",
      "Iteration 103, loss = 0.17879078\n",
      "Iteration 104, loss = 0.17844691\n",
      "Iteration 105, loss = 0.17872640\n",
      "Iteration 106, loss = 0.17880994\n",
      "Iteration 107, loss = 0.17810371\n",
      "Iteration 108, loss = 0.17769729\n",
      "Iteration 109, loss = 0.17782150\n",
      "Iteration 110, loss = 0.17732131\n",
      "Iteration 111, loss = 0.17741251\n",
      "Iteration 112, loss = 0.17718060\n",
      "Iteration 113, loss = 0.17682391\n",
      "Iteration 114, loss = 0.17729613\n",
      "Iteration 115, loss = 0.17649011\n",
      "Iteration 116, loss = 0.17625047\n",
      "Iteration 117, loss = 0.17630596\n",
      "Iteration 118, loss = 0.17589488\n",
      "Iteration 119, loss = 0.17588004\n",
      "Iteration 120, loss = 0.17537915\n",
      "Iteration 121, loss = 0.17532967\n",
      "Iteration 122, loss = 0.17526390\n",
      "Iteration 123, loss = 0.17504293\n",
      "Iteration 124, loss = 0.17532051\n",
      "Iteration 125, loss = 0.17443252\n",
      "Iteration 126, loss = 0.17490542\n",
      "Iteration 127, loss = 0.17480300\n",
      "Iteration 128, loss = 0.17390529\n",
      "Iteration 129, loss = 0.17441459\n",
      "Iteration 130, loss = 0.17376014\n",
      "Iteration 131, loss = 0.17399724\n",
      "Iteration 132, loss = 0.17392591\n",
      "Iteration 133, loss = 0.17316518\n",
      "Iteration 134, loss = 0.17341273\n",
      "Iteration 135, loss = 0.17366426\n",
      "Iteration 136, loss = 0.17295750\n",
      "Iteration 137, loss = 0.17280626\n",
      "Iteration 138, loss = 0.17252894\n",
      "Iteration 139, loss = 0.17231609\n",
      "Iteration 140, loss = 0.17314002\n",
      "Iteration 141, loss = 0.17302253\n",
      "Iteration 142, loss = 0.17182839\n",
      "Iteration 143, loss = 0.17222758\n",
      "Iteration 144, loss = 0.17150268\n",
      "Iteration 145, loss = 0.17194039\n",
      "Iteration 146, loss = 0.17133820\n",
      "Iteration 147, loss = 0.17197205\n",
      "Iteration 148, loss = 0.17159907\n",
      "Iteration 149, loss = 0.17091700\n",
      "Iteration 150, loss = 0.17140076\n",
      "Iteration 151, loss = 0.17080274\n",
      "Iteration 152, loss = 0.17050027\n",
      "Iteration 153, loss = 0.17059900\n",
      "Iteration 154, loss = 0.17067461\n",
      "Iteration 155, loss = 0.17020849\n",
      "Iteration 156, loss = 0.17047000\n",
      "Iteration 157, loss = 0.17008149\n",
      "Iteration 158, loss = 0.16958992\n",
      "Iteration 159, loss = 0.17034645\n",
      "Iteration 160, loss = 0.16986753\n",
      "Iteration 161, loss = 0.16963187\n",
      "Iteration 162, loss = 0.16954913\n",
      "Iteration 163, loss = 0.17012938\n",
      "Iteration 164, loss = 0.16909462\n",
      "Iteration 165, loss = 0.16898044\n",
      "Iteration 166, loss = 0.16943314\n",
      "Iteration 167, loss = 0.16894913\n",
      "Iteration 168, loss = 0.16852781\n",
      "Iteration 169, loss = 0.16827852\n",
      "Iteration 170, loss = 0.16877966\n",
      "Iteration 171, loss = 0.16855476\n",
      "Iteration 172, loss = 0.16852173\n",
      "Iteration 173, loss = 0.16825917\n",
      "Iteration 174, loss = 0.16815979\n",
      "Iteration 175, loss = 0.16791802\n",
      "Iteration 176, loss = 0.16804362\n",
      "Iteration 177, loss = 0.16743671\n",
      "Iteration 178, loss = 0.16821619\n",
      "Iteration 179, loss = 0.16756469\n",
      "Iteration 180, loss = 0.16701349\n",
      "Iteration 181, loss = 0.16861970\n",
      "Iteration 182, loss = 0.16749317\n",
      "Iteration 183, loss = 0.16735967\n",
      "Iteration 184, loss = 0.16736315\n",
      "Iteration 185, loss = 0.16705798\n",
      "Iteration 186, loss = 0.16672346\n",
      "Iteration 187, loss = 0.16705468\n",
      "Iteration 188, loss = 0.16676063\n",
      "Iteration 189, loss = 0.16637973\n",
      "Iteration 190, loss = 0.16635110\n",
      "Iteration 191, loss = 0.16649096\n",
      "Iteration 192, loss = 0.16679137\n",
      "Iteration 193, loss = 0.16621359\n",
      "Iteration 194, loss = 0.16580861\n",
      "Iteration 195, loss = 0.16632574\n",
      "Iteration 196, loss = 0.16592151\n",
      "Iteration 197, loss = 0.16641956\n",
      "Iteration 198, loss = 0.16551586\n",
      "Iteration 199, loss = 0.16510676\n",
      "Iteration 200, loss = 0.16563377\n",
      "Iteration 201, loss = 0.16587463\n",
      "Iteration 202, loss = 0.16520005\n",
      "Iteration 203, loss = 0.16579046\n",
      "Iteration 204, loss = 0.16511430\n",
      "Iteration 205, loss = 0.16527881\n",
      "Iteration 206, loss = 0.16527245\n",
      "Iteration 207, loss = 0.16498908\n",
      "Iteration 208, loss = 0.16475667\n",
      "Iteration 209, loss = 0.16502785\n",
      "Iteration 210, loss = 0.16496397\n",
      "Iteration 211, loss = 0.16420356\n",
      "Iteration 212, loss = 0.16423961\n",
      "Iteration 213, loss = 0.16458214\n",
      "Iteration 214, loss = 0.16449337\n",
      "Iteration 215, loss = 0.16428675\n",
      "Iteration 216, loss = 0.16389953\n",
      "Iteration 217, loss = 0.16423791\n",
      "Iteration 218, loss = 0.16384062\n",
      "Iteration 219, loss = 0.16402114\n",
      "Iteration 220, loss = 0.16419643\n",
      "Iteration 221, loss = 0.16347545\n",
      "Iteration 222, loss = 0.16352392\n",
      "Iteration 223, loss = 0.16395409\n",
      "Iteration 224, loss = 0.16372975\n",
      "Iteration 225, loss = 0.16379807\n",
      "Iteration 226, loss = 0.16375791\n",
      "Iteration 227, loss = 0.16308414\n",
      "Iteration 228, loss = 0.16317815\n",
      "Iteration 229, loss = 0.16399783\n",
      "Iteration 230, loss = 0.16280455\n",
      "Iteration 231, loss = 0.16245959\n",
      "Iteration 232, loss = 0.16310979\n",
      "Iteration 233, loss = 0.16337104\n",
      "Iteration 234, loss = 0.16250253\n",
      "Iteration 235, loss = 0.16273596\n",
      "Iteration 236, loss = 0.16246517\n",
      "Iteration 237, loss = 0.16260581\n",
      "Iteration 238, loss = 0.16294397\n",
      "Iteration 239, loss = 0.16216925\n",
      "Iteration 240, loss = 0.16237412\n",
      "Iteration 241, loss = 0.16241613\n",
      "Iteration 242, loss = 0.16197358\n",
      "Iteration 243, loss = 0.16224066\n",
      "Iteration 244, loss = 0.16187820\n",
      "Iteration 245, loss = 0.16164893\n",
      "Iteration 246, loss = 0.16198021\n",
      "Iteration 247, loss = 0.16130870\n",
      "Iteration 248, loss = 0.16213825\n",
      "Iteration 249, loss = 0.16127703\n",
      "Iteration 250, loss = 0.16158946\n",
      "Iteration 251, loss = 0.16182661\n",
      "Iteration 252, loss = 0.16055270\n",
      "Iteration 253, loss = 0.16128302\n",
      "Iteration 254, loss = 0.16135401\n",
      "Iteration 255, loss = 0.16127021\n",
      "Iteration 256, loss = 0.16073869\n",
      "Iteration 257, loss = 0.16151700\n",
      "Iteration 258, loss = 0.16097164\n",
      "Iteration 259, loss = 0.16105787\n",
      "Iteration 260, loss = 0.16064542\n",
      "Iteration 261, loss = 0.16088150\n",
      "Iteration 262, loss = 0.16035942\n",
      "Iteration 263, loss = 0.16068124\n",
      "Iteration 264, loss = 0.16097409\n",
      "Iteration 265, loss = 0.16073465\n",
      "Iteration 266, loss = 0.16091511\n",
      "Iteration 267, loss = 0.15994318\n",
      "Iteration 268, loss = 0.16077854\n",
      "Iteration 269, loss = 0.15982856\n",
      "Iteration 270, loss = 0.16006262\n",
      "Iteration 271, loss = 0.16046560\n",
      "Iteration 272, loss = 0.16022501\n",
      "Iteration 273, loss = 0.16012978\n",
      "Iteration 274, loss = 0.15993687\n",
      "Iteration 275, loss = 0.16043470\n",
      "Iteration 276, loss = 0.15973023\n",
      "Iteration 277, loss = 0.15972234\n",
      "Iteration 278, loss = 0.15999878\n",
      "Iteration 279, loss = 0.15978487\n",
      "Iteration 280, loss = 0.16000295\n",
      "Training loss did not improve more than tol=0.000100 for 10 consecutive epochs. Stopping.\n"
     ]
    }
   ],
   "source": [
    "if not os.path.exists('train/mlp_model.pkl'):\n",
    "    mlp_model = MLPClassifier(hidden_layer_sizes=(100, 100, 100), max_iter=1000, verbose=True)\n",
    "    mlp_model.fit(X_train, y_train)\n",
    "    joblib.dump(mlp_model, 'train/mlp_model.pkl')\n",
    "else:\n",
    "    rand_search = joblib.load('train/mlp_model.pkl')"
   ]
  },
  {
   "cell_type": "code",
   "execution_count": 15,
   "metadata": {},
   "outputs": [
    {
     "name": "stdout",
     "output_type": "stream",
     "text": [
      "---- Results for Dummy (Baseline) ----\n",
      "              precision    recall  f1-score   support\n",
      "\n",
      "         0.0       0.91      1.00      0.95     58367\n",
      "         1.0       0.00      0.00      0.00      5592\n",
      "\n",
      "    accuracy                           0.91     63959\n",
      "   macro avg       0.46      0.50      0.48     63959\n",
      "weighted avg       0.83      0.91      0.87     63959\n",
      "\n"
     ]
    },
    {
     "name": "stderr",
     "output_type": "stream",
     "text": [
      "UndefinedMetricWarning: Precision and F-score are ill-defined and being set to 0.0 in labels with no predicted samples. Use `zero_division` parameter to control this behavior.\n",
      "UndefinedMetricWarning: Precision and F-score are ill-defined and being set to 0.0 in labels with no predicted samples. Use `zero_division` parameter to control this behavior.\n",
      "UndefinedMetricWarning: Precision and F-score are ill-defined and being set to 0.0 in labels with no predicted samples. Use `zero_division` parameter to control this behavior.\n"
     ]
    },
    {
     "name": "stdout",
     "output_type": "stream",
     "text": [
      "SCORE (f1_weighted): 0.8708518910234326\n",
      "\n",
      "\n",
      "---- Results for Random Forest ----\n",
      "              precision    recall  f1-score   support\n",
      "\n",
      "         0.0       0.93      0.93      0.93     58367\n",
      "         1.0       0.27      0.27      0.27      5592\n",
      "\n",
      "    accuracy                           0.87     63959\n",
      "   macro avg       0.60      0.60      0.60     63959\n",
      "weighted avg       0.87      0.87      0.87     63959\n",
      "\n",
      "SCORE (f1_weighted): 0.8723956137114395\n",
      "\n",
      "\n",
      "---- Results for MLP ----\n",
      "              precision    recall  f1-score   support\n",
      "\n",
      "         0.0       0.92      0.97      0.94     58367\n",
      "         1.0       0.32      0.17      0.22      5592\n",
      "\n",
      "    accuracy                           0.90     63959\n",
      "   macro avg       0.62      0.57      0.58     63959\n",
      "weighted avg       0.87      0.90      0.88     63959\n",
      "\n",
      "SCORE (f1_weighted): 0.8811272156442784\n",
      "\n",
      "\n",
      "---- Results for Random Forest (Optimized) ----\n",
      "              precision    recall  f1-score   support\n",
      "\n",
      "         0.0       0.92      0.99      0.95     58367\n",
      "         1.0       0.46      0.10      0.16      5592\n",
      "\n",
      "    accuracy                           0.91     63959\n",
      "   macro avg       0.69      0.54      0.56     63959\n",
      "weighted avg       0.88      0.91      0.88     63959\n",
      "\n",
      "SCORE (f1_weighted): 0.8838370349624664\n",
      "\n",
      "\n"
     ]
    }
   ],
   "source": [
    "def test_model(model, X_test, y_test, name='Model'):\n",
    "    y_pred = model.predict(X_test)\n",
    "    report = classification_report(y_test, y_pred)\n",
    "\n",
    "    print(f\"---- Results for {name} ----\")\n",
    "    print(report)\n",
    "    print(f\"SCORE (f1_weighted): {f1_score(y_test, y_pred, average='weighted')}\\n\\n\")\n",
    "\n",
    "test_model(base_model, X_test, y_test, name='Dummy (Baseline)')\n",
    "test_model(default_rf, X_test, y_test, name='Random Forest')\n",
    "test_model(mlp_model, X_test, y_test, name='MLP')\n",
    "test_model(best_model, X_test, y_test, name='Random Forest (Optimized)')"
   ]
  },
  {
   "cell_type": "markdown",
   "metadata": {},
   "source": [
    "# Store in Modal"
   ]
  },
  {
   "cell_type": "code",
   "execution_count": 12,
   "metadata": {},
   "outputs": [
    {
     "name": "stdout",
     "output_type": "stream",
     "text": [
      "Connected. Call `.close()` to terminate connection gracefully.\n"
     ]
    },
    {
     "data": {
      "application/vnd.jupyter.widget-view+json": {
       "model_id": "36e6db62275a4838b9d1583f50e3bb85",
       "version_major": 2,
       "version_minor": 0
      },
      "text/plain": [
       "  0%|          | 0/6 [00:00<?, ?it/s]"
      ]
     },
     "metadata": {},
     "output_type": "display_data"
    },
    {
     "data": {
      "application/vnd.jupyter.widget-view+json": {
       "model_id": "41ee6a615ca1474faf68d63f353bc867",
       "version_major": 2,
       "version_minor": 0
      },
      "text/plain": [
       "Uploading: 0.000%|          | 0/807567705 elapsed<00:00 remaining<?"
      ]
     },
     "metadata": {},
     "output_type": "display_data"
    },
    {
     "data": {
      "application/vnd.jupyter.widget-view+json": {
       "model_id": "b5a8f3fb7d90461c821550b9e67073b0",
       "version_major": 2,
       "version_minor": 0
      },
      "text/plain": [
       "Uploading: 0.000%|          | 0/10023 elapsed<00:00 remaining<?"
      ]
     },
     "metadata": {},
     "output_type": "display_data"
    },
    {
     "data": {
      "application/vnd.jupyter.widget-view+json": {
       "model_id": "a5f5854911c34a86ba7cbdb27302f9e4",
       "version_major": 2,
       "version_minor": 0
      },
      "text/plain": [
       "Uploading: 0.000%|          | 0/243 elapsed<00:00 remaining<?"
      ]
     },
     "metadata": {},
     "output_type": "display_data"
    },
    {
     "name": "stdout",
     "output_type": "stream",
     "text": [
      "Model created, explore it at https://c.app.hopsworks.ai:443/p/196773/models/heart_model/1\n"
     ]
    },
    {
     "data": {
      "text/plain": [
       "Model(name: 'heart_model', version: 1)"
      ]
     },
     "execution_count": 12,
     "metadata": {},
     "output_type": "execute_result"
    }
   ],
   "source": [
    "# We will now upload our model to the Hopsworks Model Registry. First get an object for the model registry.\n",
    "mr = project.get_model_registry()\n",
    "\n",
    "# The contents of the 'iris_model' directory will be saved to the model registry. Create the dir, first.\n",
    "model_dir=\"heart_model\"\n",
    "os.makedirs(model_dir, exist_ok=True)\n",
    "\n",
    "# Save both our model and the confusion matrix to 'model_dir', whose contents will be uploaded to the model registry\n",
    "joblib.dump(best_model, model_dir + \"/heart_model.pkl\")\n",
    "# Already stored in the feature extraction\n",
    "joblib.dump(preprocessing_pipeline, model_dir + \"/preprocessing_pipeline.pkl\")\n",
    "\n",
    "\n",
    "# Specify the schema of the model's input/output using the features (X_train) and labels (y_train)\n",
    "input_schema = Schema(X_train)\n",
    "output_schema = Schema(y_train)\n",
    "model_schema = ModelSchema(input_schema, output_schema)\n",
    "\n",
    "# Create an entry in the model registry that includes the model's name, desc, metrics\n",
    "heart_model = mr.python.create_model(\n",
    "    name=\"heart_model\", \n",
    "    model_schema=model_schema,\n",
    "    description=\"Heart Predictor\"\n",
    ")\n",
    "\n",
    "# Upload the model to the model registry, including all files in 'model_dir'\n",
    "heart_model.save(model_dir)"
   ]
  },
  {
   "cell_type": "code",
   "execution_count": null,
   "metadata": {},
   "outputs": [],
   "source": []
  }
 ],
 "metadata": {
  "kernelspec": {
   "display_name": "Python 3 (ipykernel)",
   "language": "python",
   "name": "python3"
  },
  "language_info": {
   "codemirror_mode": {
    "name": "ipython",
    "version": 3
   },
   "file_extension": ".py",
   "mimetype": "text/x-python",
   "name": "python",
   "nbconvert_exporter": "python",
   "pygments_lexer": "ipython3",
   "version": "3.10.13"
  }
 },
 "nbformat": 4,
 "nbformat_minor": 4
}
